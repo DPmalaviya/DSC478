{
 "cells": [
  {
   "cell_type": "code",
   "execution_count": 3,
   "id": "7e1213e7-31ba-4789-8cb7-ed17fa43d3f6",
   "metadata": {},
   "outputs": [],
   "source": [
    "# Core libraries\n",
    "import pandas as pd\n",
    "import numpy as np\n",
    "\n",
    "# Recommender & similarity\n",
    "from sklearn.neighbors import NearestNeighbors\n",
    "from sklearn.metrics.pairwise import cosine_similarity\n",
    "from sklearn.feature_extraction.text import TfidfVectorizer\n",
    "from sklearn.decomposition import TruncatedSVD\n",
    "\n",
    "# NLP & Word Embeddings\n",
    "from gensim.models import Word2Vec\n",
    "\n",
    "# Evaluation & Visualization\n",
    "from sklearn.model_selection import KFold\n",
    "import matplotlib.pyplot as plt\n",
    "import seaborn as sns\n",
    "\n",
    "# Warnings\n",
    "import warnings\n",
    "warnings.filterwarnings(\"ignore\")\n"
   ]
  },
  {
   "cell_type": "code",
   "execution_count": 4,
   "id": "0c4fa298-bba5-4dbb-b3b8-b2338664b053",
   "metadata": {},
   "outputs": [],
   "source": [
    "# Load dataset\n",
    "df = pd.read_csv(\"C:/Users/trish/Downloads/video_game_reviews.csv\")  # Adjust path as needed\n",
    "df = df.dropna(subset=[\"User Rating\", \"Game Title\", \"User Review Text\"])\n"
   ]
  },
  {
   "cell_type": "markdown",
   "id": "532e98a3-57d5-4031-be98-c5ec70fff5f8",
   "metadata": {},
   "source": [
    "### Create Ratings Matrix"
   ]
  },
  {
   "cell_type": "code",
   "execution_count": 5,
   "id": "ce9836cb-0ad0-4bcc-98d2-686be386b8d1",
   "metadata": {},
   "outputs": [],
   "source": [
    "# Use Game Title and User Rating to build the matrix\n",
    "ratings = df[['Game Title', 'User Rating']].copy()\n",
    "\n",
    "# Create user-item matrix (assuming each row is a different user review for a game)\n",
    "ratings_matrix = ratings.pivot_table(index=df.index, columns='Game Title', values='User Rating').fillna(0)\n"
   ]
  },
  {
   "cell_type": "markdown",
   "id": "eb27470c-71c7-456a-9189-6a16f6eec85d",
   "metadata": {},
   "source": [
    "## Build Collaborative Filtering Models (KNN - Cosine)"
   ]
  },
  {
   "cell_type": "markdown",
   "id": "33f30dc2-0464-43b7-9658-be65dc6b7aca",
   "metadata": {},
   "source": [
    "User-Based KNN"
   ]
  },
  {
   "cell_type": "code",
   "execution_count": 6,
   "id": "e3bab9b1-943b-4b10-93ca-d4ecc9ac79a3",
   "metadata": {},
   "outputs": [
    {
     "data": {
      "text/html": [
       "<style>#sk-container-id-1 {color: black;background-color: white;}#sk-container-id-1 pre{padding: 0;}#sk-container-id-1 div.sk-toggleable {background-color: white;}#sk-container-id-1 label.sk-toggleable__label {cursor: pointer;display: block;width: 100%;margin-bottom: 0;padding: 0.3em;box-sizing: border-box;text-align: center;}#sk-container-id-1 label.sk-toggleable__label-arrow:before {content: \"▸\";float: left;margin-right: 0.25em;color: #696969;}#sk-container-id-1 label.sk-toggleable__label-arrow:hover:before {color: black;}#sk-container-id-1 div.sk-estimator:hover label.sk-toggleable__label-arrow:before {color: black;}#sk-container-id-1 div.sk-toggleable__content {max-height: 0;max-width: 0;overflow: hidden;text-align: left;background-color: #f0f8ff;}#sk-container-id-1 div.sk-toggleable__content pre {margin: 0.2em;color: black;border-radius: 0.25em;background-color: #f0f8ff;}#sk-container-id-1 input.sk-toggleable__control:checked~div.sk-toggleable__content {max-height: 200px;max-width: 100%;overflow: auto;}#sk-container-id-1 input.sk-toggleable__control:checked~label.sk-toggleable__label-arrow:before {content: \"▾\";}#sk-container-id-1 div.sk-estimator input.sk-toggleable__control:checked~label.sk-toggleable__label {background-color: #d4ebff;}#sk-container-id-1 div.sk-label input.sk-toggleable__control:checked~label.sk-toggleable__label {background-color: #d4ebff;}#sk-container-id-1 input.sk-hidden--visually {border: 0;clip: rect(1px 1px 1px 1px);clip: rect(1px, 1px, 1px, 1px);height: 1px;margin: -1px;overflow: hidden;padding: 0;position: absolute;width: 1px;}#sk-container-id-1 div.sk-estimator {font-family: monospace;background-color: #f0f8ff;border: 1px dotted black;border-radius: 0.25em;box-sizing: border-box;margin-bottom: 0.5em;}#sk-container-id-1 div.sk-estimator:hover {background-color: #d4ebff;}#sk-container-id-1 div.sk-parallel-item::after {content: \"\";width: 100%;border-bottom: 1px solid gray;flex-grow: 1;}#sk-container-id-1 div.sk-label:hover label.sk-toggleable__label {background-color: #d4ebff;}#sk-container-id-1 div.sk-serial::before {content: \"\";position: absolute;border-left: 1px solid gray;box-sizing: border-box;top: 0;bottom: 0;left: 50%;z-index: 0;}#sk-container-id-1 div.sk-serial {display: flex;flex-direction: column;align-items: center;background-color: white;padding-right: 0.2em;padding-left: 0.2em;position: relative;}#sk-container-id-1 div.sk-item {position: relative;z-index: 1;}#sk-container-id-1 div.sk-parallel {display: flex;align-items: stretch;justify-content: center;background-color: white;position: relative;}#sk-container-id-1 div.sk-item::before, #sk-container-id-1 div.sk-parallel-item::before {content: \"\";position: absolute;border-left: 1px solid gray;box-sizing: border-box;top: 0;bottom: 0;left: 50%;z-index: -1;}#sk-container-id-1 div.sk-parallel-item {display: flex;flex-direction: column;z-index: 1;position: relative;background-color: white;}#sk-container-id-1 div.sk-parallel-item:first-child::after {align-self: flex-end;width: 50%;}#sk-container-id-1 div.sk-parallel-item:last-child::after {align-self: flex-start;width: 50%;}#sk-container-id-1 div.sk-parallel-item:only-child::after {width: 0;}#sk-container-id-1 div.sk-dashed-wrapped {border: 1px dashed gray;margin: 0 0.4em 0.5em 0.4em;box-sizing: border-box;padding-bottom: 0.4em;background-color: white;}#sk-container-id-1 div.sk-label label {font-family: monospace;font-weight: bold;display: inline-block;line-height: 1.2em;}#sk-container-id-1 div.sk-label-container {text-align: center;}#sk-container-id-1 div.sk-container {/* jupyter's `normalize.less` sets `[hidden] { display: none; }` but bootstrap.min.css set `[hidden] { display: none !important; }` so we also need the `!important` here to be able to override the default hidden behavior on the sphinx rendered scikit-learn.org. See: https://github.com/scikit-learn/scikit-learn/issues/21755 */display: inline-block !important;position: relative;}#sk-container-id-1 div.sk-text-repr-fallback {display: none;}</style><div id=\"sk-container-id-1\" class=\"sk-top-container\"><div class=\"sk-text-repr-fallback\"><pre>NearestNeighbors(algorithm=&#x27;brute&#x27;, metric=&#x27;cosine&#x27;)</pre><b>In a Jupyter environment, please rerun this cell to show the HTML representation or trust the notebook. <br />On GitHub, the HTML representation is unable to render, please try loading this page with nbviewer.org.</b></div><div class=\"sk-container\" hidden><div class=\"sk-item\"><div class=\"sk-estimator sk-toggleable\"><input class=\"sk-toggleable__control sk-hidden--visually\" id=\"sk-estimator-id-1\" type=\"checkbox\" checked><label for=\"sk-estimator-id-1\" class=\"sk-toggleable__label sk-toggleable__label-arrow\">NearestNeighbors</label><div class=\"sk-toggleable__content\"><pre>NearestNeighbors(algorithm=&#x27;brute&#x27;, metric=&#x27;cosine&#x27;)</pre></div></div></div></div></div>"
      ],
      "text/plain": [
       "NearestNeighbors(algorithm='brute', metric='cosine')"
      ]
     },
     "execution_count": 6,
     "metadata": {},
     "output_type": "execute_result"
    }
   ],
   "source": [
    "\n",
    "user_knn = NearestNeighbors(metric='cosine', algorithm='brute')\n",
    "user_knn.fit(ratings_matrix)\n"
   ]
  },
  {
   "cell_type": "markdown",
   "id": "91db5563-a4a5-4e65-bbfe-152037e8f33e",
   "metadata": {},
   "source": [
    "Item-Based KNN"
   ]
  },
  {
   "cell_type": "code",
   "execution_count": 7,
   "id": "fdb2740e-cd4a-46c6-85d1-7ce2c658dd6a",
   "metadata": {},
   "outputs": [
    {
     "data": {
      "text/html": [
       "<style>#sk-container-id-2 {color: black;background-color: white;}#sk-container-id-2 pre{padding: 0;}#sk-container-id-2 div.sk-toggleable {background-color: white;}#sk-container-id-2 label.sk-toggleable__label {cursor: pointer;display: block;width: 100%;margin-bottom: 0;padding: 0.3em;box-sizing: border-box;text-align: center;}#sk-container-id-2 label.sk-toggleable__label-arrow:before {content: \"▸\";float: left;margin-right: 0.25em;color: #696969;}#sk-container-id-2 label.sk-toggleable__label-arrow:hover:before {color: black;}#sk-container-id-2 div.sk-estimator:hover label.sk-toggleable__label-arrow:before {color: black;}#sk-container-id-2 div.sk-toggleable__content {max-height: 0;max-width: 0;overflow: hidden;text-align: left;background-color: #f0f8ff;}#sk-container-id-2 div.sk-toggleable__content pre {margin: 0.2em;color: black;border-radius: 0.25em;background-color: #f0f8ff;}#sk-container-id-2 input.sk-toggleable__control:checked~div.sk-toggleable__content {max-height: 200px;max-width: 100%;overflow: auto;}#sk-container-id-2 input.sk-toggleable__control:checked~label.sk-toggleable__label-arrow:before {content: \"▾\";}#sk-container-id-2 div.sk-estimator input.sk-toggleable__control:checked~label.sk-toggleable__label {background-color: #d4ebff;}#sk-container-id-2 div.sk-label input.sk-toggleable__control:checked~label.sk-toggleable__label {background-color: #d4ebff;}#sk-container-id-2 input.sk-hidden--visually {border: 0;clip: rect(1px 1px 1px 1px);clip: rect(1px, 1px, 1px, 1px);height: 1px;margin: -1px;overflow: hidden;padding: 0;position: absolute;width: 1px;}#sk-container-id-2 div.sk-estimator {font-family: monospace;background-color: #f0f8ff;border: 1px dotted black;border-radius: 0.25em;box-sizing: border-box;margin-bottom: 0.5em;}#sk-container-id-2 div.sk-estimator:hover {background-color: #d4ebff;}#sk-container-id-2 div.sk-parallel-item::after {content: \"\";width: 100%;border-bottom: 1px solid gray;flex-grow: 1;}#sk-container-id-2 div.sk-label:hover label.sk-toggleable__label {background-color: #d4ebff;}#sk-container-id-2 div.sk-serial::before {content: \"\";position: absolute;border-left: 1px solid gray;box-sizing: border-box;top: 0;bottom: 0;left: 50%;z-index: 0;}#sk-container-id-2 div.sk-serial {display: flex;flex-direction: column;align-items: center;background-color: white;padding-right: 0.2em;padding-left: 0.2em;position: relative;}#sk-container-id-2 div.sk-item {position: relative;z-index: 1;}#sk-container-id-2 div.sk-parallel {display: flex;align-items: stretch;justify-content: center;background-color: white;position: relative;}#sk-container-id-2 div.sk-item::before, #sk-container-id-2 div.sk-parallel-item::before {content: \"\";position: absolute;border-left: 1px solid gray;box-sizing: border-box;top: 0;bottom: 0;left: 50%;z-index: -1;}#sk-container-id-2 div.sk-parallel-item {display: flex;flex-direction: column;z-index: 1;position: relative;background-color: white;}#sk-container-id-2 div.sk-parallel-item:first-child::after {align-self: flex-end;width: 50%;}#sk-container-id-2 div.sk-parallel-item:last-child::after {align-self: flex-start;width: 50%;}#sk-container-id-2 div.sk-parallel-item:only-child::after {width: 0;}#sk-container-id-2 div.sk-dashed-wrapped {border: 1px dashed gray;margin: 0 0.4em 0.5em 0.4em;box-sizing: border-box;padding-bottom: 0.4em;background-color: white;}#sk-container-id-2 div.sk-label label {font-family: monospace;font-weight: bold;display: inline-block;line-height: 1.2em;}#sk-container-id-2 div.sk-label-container {text-align: center;}#sk-container-id-2 div.sk-container {/* jupyter's `normalize.less` sets `[hidden] { display: none; }` but bootstrap.min.css set `[hidden] { display: none !important; }` so we also need the `!important` here to be able to override the default hidden behavior on the sphinx rendered scikit-learn.org. See: https://github.com/scikit-learn/scikit-learn/issues/21755 */display: inline-block !important;position: relative;}#sk-container-id-2 div.sk-text-repr-fallback {display: none;}</style><div id=\"sk-container-id-2\" class=\"sk-top-container\"><div class=\"sk-text-repr-fallback\"><pre>NearestNeighbors(algorithm=&#x27;brute&#x27;, metric=&#x27;cosine&#x27;)</pre><b>In a Jupyter environment, please rerun this cell to show the HTML representation or trust the notebook. <br />On GitHub, the HTML representation is unable to render, please try loading this page with nbviewer.org.</b></div><div class=\"sk-container\" hidden><div class=\"sk-item\"><div class=\"sk-estimator sk-toggleable\"><input class=\"sk-toggleable__control sk-hidden--visually\" id=\"sk-estimator-id-2\" type=\"checkbox\" checked><label for=\"sk-estimator-id-2\" class=\"sk-toggleable__label sk-toggleable__label-arrow\">NearestNeighbors</label><div class=\"sk-toggleable__content\"><pre>NearestNeighbors(algorithm=&#x27;brute&#x27;, metric=&#x27;cosine&#x27;)</pre></div></div></div></div></div>"
      ],
      "text/plain": [
       "NearestNeighbors(algorithm='brute', metric='cosine')"
      ]
     },
     "execution_count": 7,
     "metadata": {},
     "output_type": "execute_result"
    }
   ],
   "source": [
    "\n",
    "item_knn = NearestNeighbors(metric='cosine', algorithm='brute')\n",
    "item_knn.fit(ratings_matrix.T)\n"
   ]
  },
  {
   "cell_type": "markdown",
   "id": "c21ddccb-5ef1-4b3b-a365-8006f6c138b2",
   "metadata": {},
   "source": [
    "## Recommendation Functions"
   ]
  },
  {
   "cell_type": "markdown",
   "id": "43668963-2b7d-4302-9cc8-f13ce1574043",
   "metadata": {},
   "source": [
    "Recommend for a User (User-Based CF)"
   ]
  },
  {
   "cell_type": "code",
   "execution_count": 8,
   "id": "7af8d8cb-1439-4c6b-83cd-e784fda8138d",
   "metadata": {},
   "outputs": [],
   "source": [
    "def recommend_user(user_index, k=10):\n",
    "    distances, indices = user_knn.kneighbors([ratings_matrix.iloc[user_index]], n_neighbors=k+1)\n",
    "    recs = ratings_matrix.iloc[indices.flatten()[1:]].mean().sort_values(ascending=False)\n",
    "    return recs.head(k)\n"
   ]
  },
  {
   "cell_type": "markdown",
   "id": "6e651c98-487b-454e-95b0-10f996d5049a",
   "metadata": {},
   "source": [
    " Recommend Similar Items (Item-Based CF)"
   ]
  },
  {
   "cell_type": "code",
   "execution_count": 9,
   "id": "56f1dd34-4688-4db4-97f8-a8b07bf91583",
   "metadata": {},
   "outputs": [],
   "source": [
    "def recommend_item(item_title, k=10):\n",
    "    item_vec = ratings_matrix.T.loc[item_title].values.reshape(1, -1)\n",
    "    distances, indices = item_knn.kneighbors(item_vec, n_neighbors=k+1)\n",
    "    return ratings_matrix.T.index[indices.flatten()[1:]]\n"
   ]
  },
  {
   "cell_type": "markdown",
   "id": "64d5e368-d2da-4cfa-9c96-93dcde8f7d09",
   "metadata": {},
   "source": [
    " ## Preprocess Game Text Corpus"
   ]
  },
  {
   "cell_type": "code",
   "execution_count": 10,
   "id": "48e1fced-b934-4cc9-8cba-9c4c0f5f3d84",
   "metadata": {},
   "outputs": [],
   "source": [
    "# Combine all user reviews for each game\n",
    "corpus = df.groupby(\"Game Title\")[\"User Review Text\"].apply(lambda x: \" \".join(x)).reset_index()\n"
   ]
  },
  {
   "cell_type": "markdown",
   "id": "b8dd3179-9753-42f0-af73-bf7c69b26dde",
   "metadata": {},
   "source": [
    "## TF-IDF Full Vectorization"
   ]
  },
  {
   "cell_type": "code",
   "execution_count": 11,
   "id": "c5fe1607-ddf4-4355-88c3-f0896f1f538f",
   "metadata": {},
   "outputs": [],
   "source": [
    "from sklearn.feature_extraction.text import TfidfVectorizer\n",
    "\n",
    "tfidf = TfidfVectorizer(stop_words='english')\n",
    "tfidf_matrix = tfidf.fit_transform(corpus[\"User Review Text\"])\n"
   ]
  },
  {
   "cell_type": "markdown",
   "id": "991689be-b0e6-4b8c-96ed-8eb1e3745a34",
   "metadata": {},
   "source": [
    "## TF-IDF Recommender Function"
   ]
  },
  {
   "cell_type": "code",
   "execution_count": 12,
   "id": "999e9e0c-c5c6-41cb-95e2-d6ace23e6d4a",
   "metadata": {},
   "outputs": [
    {
     "name": "stdout",
     "output_type": "stream",
     "text": [
      "Top recommendations: ['Mario Kart 8 Deluxe', 'Pokémon Scarlet & Violet', 'Super Mario Odyssey', 'Pillars of Eternity II: Deadfire', 'Overwatch 2']\n"
     ]
    }
   ],
   "source": [
    "from sklearn.metrics.pairwise import cosine_similarity\n",
    "\n",
    "def content_recommender_cosine(query_title, matrix, top_n=10):\n",
    "    idx = corpus[corpus[\"Game Title\"] == query_title].index[0]\n",
    "    cosine_sim = cosine_similarity(matrix[idx], matrix).flatten()\n",
    "    sim_scores = list(enumerate(cosine_sim))\n",
    "    sim_scores = sorted(sim_scores, key=lambda x: x[1], reverse=True)[1:top_n+1]\n",
    "    return corpus[\"Game Title\"].iloc[[i[0] for i in sim_scores]].tolist()\n",
    "# Check if the game title exists\n",
    "query_title = \"Minecraft\"\n",
    "\n",
    "if query_title in corpus[\"Game Title\"].values:\n",
    "    print(\"Top recommendations:\", content_recommender_cosine(query_title, tfidf_matrix, top_n=5))\n",
    "else:\n",
    "    print(f\"Game title '{query_title}' not found. Here are some valid titles:\")\n",
    "    print(corpus[\"Game Title\"].sample(5).tolist())\n",
    "\n",
    "\n",
    "\n"
   ]
  },
  {
   "cell_type": "markdown",
   "id": "67342c89-71ed-426d-ad43-835b810f0929",
   "metadata": {},
   "source": [
    "## TF-IDF + SVD (100-Dimension)"
   ]
  },
  {
   "cell_type": "code",
   "execution_count": 13,
   "id": "9382a56e-4309-4c7b-a3bd-7d21e57e1e7a",
   "metadata": {},
   "outputs": [],
   "source": [
    "max_components = min(100, tfidf_matrix.shape[1])\n",
    "svd = TruncatedSVD(n_components=max_components)\n",
    "tfidf_svd = svd.fit_transform(tfidf_matrix)\r\n"
   ]
  },
  {
   "cell_type": "code",
   "execution_count": 14,
   "id": "eae95aa1-8041-4cad-aea0-7dc980ac2008",
   "metadata": {},
   "outputs": [],
   "source": [
    "from sklearn.model_selection import KFold\n",
    "from sklearn.metrics import precision_score, recall_score\n",
    "\n",
    "#We need to simulate user-item interactions\n",
    "kf = KFold(n_splits=5, shuffle=True, random_state=42)\n"
   ]
  },
  {
   "cell_type": "code",
   "execution_count": 15,
   "id": "1a382bd0-4e0c-4e16-b099-d814c30aed4d",
   "metadata": {},
   "outputs": [],
   "source": [
    "def precision_at_k(actual, predicted, k):\n",
    "    actual = set(actual)\n",
    "    predicted = predicted[:k]\n",
    "    return len(set(predicted) & actual) / k\n",
    "\n",
    "def recall_at_k(actual, predicted, k):\n",
    "    actual = set(actual)\n",
    "    predicted = predicted[:k]\n",
    "    return len(set(predicted) & actual) / len(actual) if actual else 0\n"
   ]
  },
  {
   "cell_type": "code",
   "execution_count": 32,
   "id": "4b722a07-b83d-4967-b9e5-c89604135cf5",
   "metadata": {},
   "outputs": [],
   "source": [
    "results = []\n",
    "for game in corpus[\"Game Title\"].sample(20):  # small test set\n",
    "        # Get genre of the current game\n",
    "    game_genre = df[df[\"Game Title\"] == game][\"Genre\"].values[0]\n",
    "    \n",
    "    # Get all other games with the same genre (excluding current game)\n",
    "    actual = df[(df[\"Genre\"] == game_genre) & (df[\"Game Title\"] != game)][\"Game Title\"].unique().tolist()\n",
    "\n",
    "    pred = content_recommender_cosine(game, tfidf_matrix, top_n=5)\n",
    "    prec = precision_at_k(actual, pred, 5)\n",
    "    rec = recall_at_k(actual, pred, 5)\n",
    "    results.append({\"Model\": \"TF-IDF\", \"Precision@5\": prec, \"Recall@5\": rec})\n"
   ]
  },
  {
   "cell_type": "markdown",
   "id": "9abadb51-ae1b-40f4-bf2a-a87530f239e5",
   "metadata": {},
   "source": [
    "## Step-by-Step Final Evaluation Code (All 5 Models)"
   ]
  },
  {
   "cell_type": "markdown",
   "id": "2085d1b6-d0a6-4df6-b10c-9b526553327c",
   "metadata": {},
   "source": [
    "Add KNN Models "
   ]
  },
  {
   "cell_type": "code",
   "execution_count": 16,
   "id": "72e20b31-ae59-422e-9221-29ce1e06f581",
   "metadata": {},
   "outputs": [
    {
     "data": {
      "text/html": [
       "<style>#sk-container-id-3 {color: black;background-color: white;}#sk-container-id-3 pre{padding: 0;}#sk-container-id-3 div.sk-toggleable {background-color: white;}#sk-container-id-3 label.sk-toggleable__label {cursor: pointer;display: block;width: 100%;margin-bottom: 0;padding: 0.3em;box-sizing: border-box;text-align: center;}#sk-container-id-3 label.sk-toggleable__label-arrow:before {content: \"▸\";float: left;margin-right: 0.25em;color: #696969;}#sk-container-id-3 label.sk-toggleable__label-arrow:hover:before {color: black;}#sk-container-id-3 div.sk-estimator:hover label.sk-toggleable__label-arrow:before {color: black;}#sk-container-id-3 div.sk-toggleable__content {max-height: 0;max-width: 0;overflow: hidden;text-align: left;background-color: #f0f8ff;}#sk-container-id-3 div.sk-toggleable__content pre {margin: 0.2em;color: black;border-radius: 0.25em;background-color: #f0f8ff;}#sk-container-id-3 input.sk-toggleable__control:checked~div.sk-toggleable__content {max-height: 200px;max-width: 100%;overflow: auto;}#sk-container-id-3 input.sk-toggleable__control:checked~label.sk-toggleable__label-arrow:before {content: \"▾\";}#sk-container-id-3 div.sk-estimator input.sk-toggleable__control:checked~label.sk-toggleable__label {background-color: #d4ebff;}#sk-container-id-3 div.sk-label input.sk-toggleable__control:checked~label.sk-toggleable__label {background-color: #d4ebff;}#sk-container-id-3 input.sk-hidden--visually {border: 0;clip: rect(1px 1px 1px 1px);clip: rect(1px, 1px, 1px, 1px);height: 1px;margin: -1px;overflow: hidden;padding: 0;position: absolute;width: 1px;}#sk-container-id-3 div.sk-estimator {font-family: monospace;background-color: #f0f8ff;border: 1px dotted black;border-radius: 0.25em;box-sizing: border-box;margin-bottom: 0.5em;}#sk-container-id-3 div.sk-estimator:hover {background-color: #d4ebff;}#sk-container-id-3 div.sk-parallel-item::after {content: \"\";width: 100%;border-bottom: 1px solid gray;flex-grow: 1;}#sk-container-id-3 div.sk-label:hover label.sk-toggleable__label {background-color: #d4ebff;}#sk-container-id-3 div.sk-serial::before {content: \"\";position: absolute;border-left: 1px solid gray;box-sizing: border-box;top: 0;bottom: 0;left: 50%;z-index: 0;}#sk-container-id-3 div.sk-serial {display: flex;flex-direction: column;align-items: center;background-color: white;padding-right: 0.2em;padding-left: 0.2em;position: relative;}#sk-container-id-3 div.sk-item {position: relative;z-index: 1;}#sk-container-id-3 div.sk-parallel {display: flex;align-items: stretch;justify-content: center;background-color: white;position: relative;}#sk-container-id-3 div.sk-item::before, #sk-container-id-3 div.sk-parallel-item::before {content: \"\";position: absolute;border-left: 1px solid gray;box-sizing: border-box;top: 0;bottom: 0;left: 50%;z-index: -1;}#sk-container-id-3 div.sk-parallel-item {display: flex;flex-direction: column;z-index: 1;position: relative;background-color: white;}#sk-container-id-3 div.sk-parallel-item:first-child::after {align-self: flex-end;width: 50%;}#sk-container-id-3 div.sk-parallel-item:last-child::after {align-self: flex-start;width: 50%;}#sk-container-id-3 div.sk-parallel-item:only-child::after {width: 0;}#sk-container-id-3 div.sk-dashed-wrapped {border: 1px dashed gray;margin: 0 0.4em 0.5em 0.4em;box-sizing: border-box;padding-bottom: 0.4em;background-color: white;}#sk-container-id-3 div.sk-label label {font-family: monospace;font-weight: bold;display: inline-block;line-height: 1.2em;}#sk-container-id-3 div.sk-label-container {text-align: center;}#sk-container-id-3 div.sk-container {/* jupyter's `normalize.less` sets `[hidden] { display: none; }` but bootstrap.min.css set `[hidden] { display: none !important; }` so we also need the `!important` here to be able to override the default hidden behavior on the sphinx rendered scikit-learn.org. See: https://github.com/scikit-learn/scikit-learn/issues/21755 */display: inline-block !important;position: relative;}#sk-container-id-3 div.sk-text-repr-fallback {display: none;}</style><div id=\"sk-container-id-3\" class=\"sk-top-container\"><div class=\"sk-text-repr-fallback\"><pre>NearestNeighbors(algorithm=&#x27;brute&#x27;, metric=&#x27;cosine&#x27;)</pre><b>In a Jupyter environment, please rerun this cell to show the HTML representation or trust the notebook. <br />On GitHub, the HTML representation is unable to render, please try loading this page with nbviewer.org.</b></div><div class=\"sk-container\" hidden><div class=\"sk-item\"><div class=\"sk-estimator sk-toggleable\"><input class=\"sk-toggleable__control sk-hidden--visually\" id=\"sk-estimator-id-3\" type=\"checkbox\" checked><label for=\"sk-estimator-id-3\" class=\"sk-toggleable__label sk-toggleable__label-arrow\">NearestNeighbors</label><div class=\"sk-toggleable__content\"><pre>NearestNeighbors(algorithm=&#x27;brute&#x27;, metric=&#x27;cosine&#x27;)</pre></div></div></div></div></div>"
      ],
      "text/plain": [
       "NearestNeighbors(algorithm='brute', metric='cosine')"
      ]
     },
     "execution_count": 16,
     "metadata": {},
     "output_type": "execute_result"
    }
   ],
   "source": [
    "from sklearn.neighbors import NearestNeighbors\n",
    "\n",
    "# Recreate user-item ratings matrix\n",
    "ratings = df[['Game Title', 'User Rating']]\n",
    "ratings_matrix = ratings.pivot_table(index=df.index, columns='Game Title', values='User Rating').fillna(0)\n",
    "\n",
    "# User-based CF\n",
    "user_knn = NearestNeighbors(metric='cosine', algorithm='brute')\n",
    "user_knn.fit(ratings_matrix)\n",
    "\n",
    "# Item-based CF\n",
    "item_knn = NearestNeighbors(metric='cosine', algorithm='brute')\n",
    "item_knn.fit(ratings_matrix.T)\n"
   ]
  },
  {
   "cell_type": "markdown",
   "id": "979a2ad9-0f8c-4738-be89-bdb691935720",
   "metadata": {},
   "source": [
    "Helper Functions for CF"
   ]
  },
  {
   "cell_type": "code",
   "execution_count": 17,
   "id": "2cc12b53-c638-4630-a5f5-b2b9a3027c23",
   "metadata": {},
   "outputs": [],
   "source": [
    "def recommend_user(user_index, k=10):\n",
    "    distances, indices = user_knn.kneighbors([ratings_matrix.iloc[user_index]], n_neighbors=k+1)\n",
    "    recs = ratings_matrix.iloc[indices.flatten()[1:]].mean().sort_values(ascending=False)\n",
    "    return recs.head(k).index.tolist()\n",
    "\n",
    "def recommend_item(game_title, k=10):\n",
    "    if game_title not in ratings_matrix.columns:\n",
    "        return []\n",
    "    game_vec = ratings_matrix[game_title].values.reshape(1, -1)\n",
    "    distances, indices = item_knn.kneighbors(game_vec, n_neighbors=k+1)\n",
    "    return ratings_matrix.columns[indices.flatten()[1:]].tolist()\n"
   ]
  },
  {
   "cell_type": "markdown",
   "id": "7ee8b95a-0c08-4c21-9576-1bfa56e89042",
   "metadata": {},
   "source": [
    "Final Unified Evaluation Loop"
   ]
  },
  {
   "cell_type": "code",
   "execution_count": 28,
   "id": "6b9888b2-c8e8-43d0-acc0-c22463510c23",
   "metadata": {},
   "outputs": [],
   "source": [
    "from gensim.models import Word2Vec\n",
    "from sklearn.decomposition import TruncatedSVD\n",
    "import numpy as np\n",
    "\n",
    "# Sample game titles for evaluation\n",
    "sample_games = df[\"Game Title\"].dropna().unique()[:20]\n",
    "\n",
    "# Tokenize game titles (you can use other text columns instead)\n",
    "documents = [str(title).split() for title in df[\"Game Title\"]]\n",
    "\n",
    "# Train Word2Vec model\n",
    "w2v_model = Word2Vec(sentences=documents, vector_size=100, window=5, min_count=1, workers=4)\n",
    "\n",
    "# Helper: average vector for each document\n",
    "def get_avg_vector(words, model, vector_size):\n",
    "    valid_words = [word for word in words if word in model.wv]\n",
    "    return np.mean([model.wv[word] for word in valid_words], axis=0) if valid_words else np.zeros(vector_size)\n",
    "\n",
    "# Generate Word2Vec matrix\n",
    "w2v_matrix = np.array([get_avg_vector(doc, w2v_model, 100) for doc in documents])\n",
    "\n",
    "# Apply SVD on Word2Vec matrix\n",
    "svd = TruncatedSVD(n_components=100, random_state=42)\n",
    "svd_w2v = svd.fit_transform(w2v_matrix)\n",
    "\n",
    "# Define NDCG@K metric\n",
    "def ndcg_at_k(actual, predicted, k):\n",
    "    def dcg(relevance_scores):\n",
    "        return sum((2**rel - 1) / np.log2(idx + 2) for idx, rel in enumerate(relevance_scores))\n",
    "\n",
    "    relevance_scores = [1 if item in actual else 0 for item in predicted[:k]]\n",
    "    ideal_relevance_scores = sorted(relevance_scores, reverse=True)\n",
    "    \n",
    "    dcg_score = dcg(relevance_scores)\n",
    "    idcg_score = dcg(ideal_relevance_scores)\n",
    "    \n",
    "    return dcg_score / idcg_score if idcg_score > 0 else 0\n"
   ]
  },
  {
   "cell_type": "code",
   "execution_count": 43,
   "id": "b7560378-fde2-4e05-9b69-3f9c408c37a3",
   "metadata": {},
   "outputs": [
    {
     "data": {
      "text/html": [
       "<div>\n",
       "<style scoped>\n",
       "    .dataframe tbody tr th:only-of-type {\n",
       "        vertical-align: middle;\n",
       "    }\n",
       "\n",
       "    .dataframe tbody tr th {\n",
       "        vertical-align: top;\n",
       "    }\n",
       "\n",
       "    .dataframe thead th {\n",
       "        text-align: right;\n",
       "    }\n",
       "</style>\n",
       "<table border=\"1\" class=\"dataframe\">\n",
       "  <thead>\n",
       "    <tr style=\"text-align: right;\">\n",
       "      <th></th>\n",
       "      <th>Model</th>\n",
       "      <th>Precision@5</th>\n",
       "      <th>Recall@5</th>\n",
       "      <th>NDCG@10</th>\n",
       "    </tr>\n",
       "  </thead>\n",
       "  <tbody>\n",
       "    <tr>\n",
       "      <th>0</th>\n",
       "      <td>TF-IDF</td>\n",
       "      <td>1.0</td>\n",
       "      <td>0.128205</td>\n",
       "      <td>1.0</td>\n",
       "    </tr>\n",
       "    <tr>\n",
       "      <th>1</th>\n",
       "      <td>TF-IDF</td>\n",
       "      <td>1.0</td>\n",
       "      <td>0.128205</td>\n",
       "      <td>1.0</td>\n",
       "    </tr>\n",
       "    <tr>\n",
       "      <th>2</th>\n",
       "      <td>TF-IDF</td>\n",
       "      <td>1.0</td>\n",
       "      <td>0.128205</td>\n",
       "      <td>1.0</td>\n",
       "    </tr>\n",
       "    <tr>\n",
       "      <th>3</th>\n",
       "      <td>TF-IDF</td>\n",
       "      <td>1.0</td>\n",
       "      <td>0.128205</td>\n",
       "      <td>1.0</td>\n",
       "    </tr>\n",
       "    <tr>\n",
       "      <th>4</th>\n",
       "      <td>TF-IDF</td>\n",
       "      <td>1.0</td>\n",
       "      <td>0.128205</td>\n",
       "      <td>1.0</td>\n",
       "    </tr>\n",
       "  </tbody>\n",
       "</table>\n",
       "</div>"
      ],
      "text/plain": [
       "    Model  Precision@5  Recall@5  NDCG@10\n",
       "0  TF-IDF          1.0  0.128205      1.0\n",
       "1  TF-IDF          1.0  0.128205      1.0\n",
       "2  TF-IDF          1.0  0.128205      1.0\n",
       "3  TF-IDF          1.0  0.128205      1.0\n",
       "4  TF-IDF          1.0  0.128205      1.0"
      ]
     },
     "execution_count": 43,
     "metadata": {},
     "output_type": "execute_result"
    }
   ],
   "source": [
    "models = {\n",
    "    \"TF-IDF\": tfidf_matrix,\n",
    "    \"TF-IDF + SVD\": tfidf_svd,\n",
    "    \"Word2Vec\": w2v_matrix,\n",
    "    \"Word2Vec + SVD\": svd_w2v\n",
    "}\n",
    "\n",
    "evaluation_results = []\n",
    "\n",
    "# Content-based evaluation\n",
    "for model_name, matrix in models.items():\n",
    "    for game in sample_games:\n",
    "        try:\n",
    "            game_genre = df[df[\"Game Title\"] == game][\"Genre\"].values[0]\n",
    "            actual = df[(df[\"Genre\"] == game_genre) & (df[\"Game Title\"] != game)][\"Game Title\"].unique().tolist()\n",
    "            predicted = content_recommender_cosine(game, matrix, top_n=10)\n",
    "            evaluation_results.append({\n",
    "                \"Model\": model_name,\n",
    "                \"Precision@5\": precision_at_k(actual, predicted, 5),\n",
    "                \"Recall@5\": recall_at_k(actual, predicted, 5),\n",
    "                \"NDCG@10\": ndcg_at_k(actual, predicted, 10)\n",
    "            })\n",
    "        except:\n",
    "            continue\n",
    "\n",
    "# User-based CF evaluation\n",
    "for idx in range(20):  # Example: 20 pseudo-users\n",
    "    actual_games = ratings_matrix.iloc[idx].sort_values(ascending=False)\n",
    "    actual = actual_games[actual_games > 0].index.tolist()[:10]\n",
    "    predicted = recommend_user(idx, k=10)\n",
    "    evaluation_results.append({\n",
    "        \"Model\": \"User-KNN\",\n",
    "        \"Precision@5\": precision_at_k(actual, predicted, 5),\n",
    "        \"Recall@5\": recall_at_k(actual, predicted, 5),\n",
    "        \"NDCG@10\": ndcg_at_k(actual, predicted, 10)\n",
    "    })\n",
    "\n",
    "# Item-based CF evaluation\n",
    "for game in sample_games:\n",
    "    try:\n",
    "        game_genre = df[df[\"Game Title\"] == game][\"Genre\"].values[0]\n",
    "        actual = df[(df[\"Genre\"] == game_genre) & (df[\"Game Title\"] != game)][\"Game Title\"].unique().tolist()\n",
    "        predicted = recommend_item(game, k=10)\n",
    "        evaluation_results.append({\n",
    "            \"Model\": \"Item-KNN\",\n",
    "            \"Precision@5\": precision_at_k(actual, predicted, 5),\n",
    "            \"Recall@5\": recall_at_k(actual, predicted, 5),\n",
    "            \"NDCG@10\": ndcg_at_k(actual, predicted, 10)\n",
    "        })\n",
    "    except:\n",
    "        continue\n",
    "\n",
    "# Create and display final DataFrame\n",
    "results_df = pd.DataFrame(evaluation_results)\n",
    "results_df.head()  # Display the first few rows\n"
   ]
  },
  {
   "cell_type": "markdown",
   "id": "c36e611c-edc0-49d0-b073-8cb71bc457c7",
   "metadata": {},
   "source": [
    "Baseline Model Visualization"
   ]
  },
  {
   "cell_type": "code",
   "execution_count": 34,
   "id": "9ec89388-fce2-446d-9c45-f30c397080a2",
   "metadata": {},
   "outputs": [
    {
     "data": {
      "text/plain": [
       "<Figure size 640x480 with 0 Axes>"
      ]
     },
     "metadata": {},
     "output_type": "display_data"
    }
   ],
   "source": [
    "import os\n",
    "\n",
    "# Create the results folder if it doesn't exist\n",
    "os.makedirs(\"results\", exist_ok=True)\n",
    "\n",
    "# Now save the plot\n",
    "plt.savefig(\"results/baseline_model_comparison.png\")\n"
   ]
  },
  {
   "cell_type": "code",
   "execution_count": 35,
   "id": "03707230-5f5d-4d96-a493-649e1aaf5429",
   "metadata": {},
   "outputs": [
    {
     "data": {
      "image/png": "[encoded data removed]",
      "text/plain": [
       "<Figure size 1000x600 with 1 Axes>"
      ]
     },
     "metadata": {},
     "output_type": "display_data"
    }
   ],
   "source": [
    "import matplotlib.pyplot as plt\n",
    "\n",
    "# Grouped bar chart: average of each metric per model\n",
    "grouped = results_df.groupby(\"Model\")[[\"Precision@5\", \"Recall@5\", \"NDCG@10\"]].mean()\n",
    "\n",
    "grouped.plot(kind=\"bar\", figsize=(10, 6))\n",
    "plt.title(\"Baseline Model Evaluation\")\n",
    "plt.ylabel(\"Score\")\n",
    "plt.xticks(rotation=45)\n",
    "plt.tight_layout()\n",
    "plt.savefig(\"results/baseline_model_comparison.png\")  # Save plot\n",
    "plt.show()\n"
   ]
  },
  {
   "cell_type": "markdown",
   "id": "1cdbd910-00fc-4f25-96af-269a017ba3fe",
   "metadata": {},
   "source": [
    "## Save SHAP Explainability Plot"
   ]
  },
  {
   "cell_type": "code",
   "execution_count": 41,
   "id": "acd34cba-9568-4510-a843-2063305fec3b",
   "metadata": {},
   "outputs": [
    {
     "name": "stdout",
     "output_type": "stream",
     "text": [
      "Requirement already satisfied: shap in c:\\users\\trish\\anaconda3\\lib\\site-packages (0.47.2)Note: you may need to restart the kernel to use updated packages.\n",
      "\n",
      "Requirement already satisfied: numpy in c:\\users\\trish\\anaconda3\\lib\\site-packages (from shap) (1.26.4)\n",
      "Requirement already satisfied: scipy in c:\\users\\trish\\anaconda3\\lib\\site-packages (from shap) (1.11.4)\n",
      "Requirement already satisfied: scikit-learn in c:\\users\\trish\\anaconda3\\lib\\site-packages (from shap) (1.2.2)\n",
      "Requirement already satisfied: pandas in c:\\users\\trish\\anaconda3\\lib\\site-packages (from shap) (2.1.4)\n",
      "Requirement already satisfied: tqdm>=4.27.0 in c:\\users\\trish\\anaconda3\\lib\\site-packages (from shap) (4.65.0)\n",
      "Requirement already satisfied: packaging>20.9 in c:\\users\\trish\\anaconda3\\lib\\site-packages (from shap) (23.1)\n",
      "Requirement already satisfied: slicer==0.0.8 in c:\\users\\trish\\anaconda3\\lib\\site-packages (from shap) (0.0.8)\n",
      "Requirement already satisfied: numba>=0.54 in c:\\users\\trish\\anaconda3\\lib\\site-packages (from shap) (0.59.0)\n",
      "Requirement already satisfied: cloudpickle in c:\\users\\trish\\anaconda3\\lib\\site-packages (from shap) (2.2.1)\n",
      "Requirement already satisfied: typing-extensions in c:\\users\\trish\\anaconda3\\lib\\site-packages (from shap) (4.9.0)\n",
      "Requirement already satisfied: llvmlite<0.43,>=0.42.0dev0 in c:\\users\\trish\\anaconda3\\lib\\site-packages (from numba>=0.54->shap) (0.42.0)\n",
      "Requirement already satisfied: colorama in c:\\users\\trish\\anaconda3\\lib\\site-packages (from tqdm>=4.27.0->shap) (0.4.6)\n",
      "Requirement already satisfied: python-dateutil>=2.8.2 in c:\\users\\trish\\anaconda3\\lib\\site-packages (from pandas->shap) (2.8.2)\n",
      "Requirement already satisfied: pytz>=2020.1 in c:\\users\\trish\\anaconda3\\lib\\site-packages (from pandas->shap) (2023.3.post1)\n",
      "Requirement already satisfied: tzdata>=2022.1 in c:\\users\\trish\\anaconda3\\lib\\site-packages (from pandas->shap) (2023.3)\n",
      "Requirement already satisfied: joblib>=1.1.1 in c:\\users\\trish\\anaconda3\\lib\\site-packages (from scikit-learn->shap) (1.2.0)\n",
      "Requirement already satisfied: threadpoolctl>=2.0.0 in c:\\users\\trish\\anaconda3\\lib\\site-packages (from scikit-learn->shap) (2.2.0)\n",
      "Requirement already satisfied: six>=1.5 in c:\\users\\trish\\anaconda3\\lib\\site-packages (from python-dateutil>=2.8.2->pandas->shap) (1.16.0)\n"
     ]
    }
   ],
   "source": [
    "pip install shap\n"
   ]
  },
  {
   "cell_type": "code",
   "execution_count": 47,
   "id": "6100f812-528b-4dec-b250-6e7a3786c657",
   "metadata": {},
   "outputs": [
    {
     "name": "stderr",
     "output_type": "stream",
     "text": [
      "100%|===================| 47594/47700 [03:59<00:00]        "
     ]
    },
    {
     "data": {
      "image/png": "[encoded data removed]",
      "text/plain": [
       "<Figure size 800x950 with 1 Axes>"
      ]
     },
     "metadata": {},
     "output_type": "display_data"
    }
   ],
   "source": [
    "import shap\n",
    "from sklearn.ensemble import RandomForestClassifier\n",
    "from sklearn.feature_extraction.text import TfidfVectorizer\n",
    "from sklearn.model_selection import train_test_split\n",
    "import matplotlib.pyplot as plt\n",
    "import os\n",
    "\n",
    "# Step 1: Filter DataFrame to sample_games\n",
    "df_subset = df[df[\"Game Title\"].isin(sample_games)].dropna(subset=[\"Game Title\", \"Genre\"]).reset_index(drop=True)\n",
    "\n",
    "# Step 2: Build TF-IDF Matrix from Game Titles\n",
    "tfidf_vectorizer = TfidfVectorizer()\n",
    "tfidf_matrix = tfidf_vectorizer.fit_transform(df_subset[\"Game Title\"].astype(str))\n",
    "\n",
    "# Step 3: Encode Genre as target labels\n",
    "df_subset[\"label\"] = df_subset[\"Genre\"].astype(\"category\").cat.codes\n",
    "\n",
    "# Step 4: Train/Test Split\n",
    "X = tfidf_matrix\n",
    "y = df_subset[\"label\"]\n",
    "X_train, X_test, y_train, y_test = train_test_split(X, y, test_size=0.2, random_state=42)\n",
    "\n",
    "# Step 5: Train RandomForest Classifier\n",
    "model = RandomForestClassifier(n_estimators=100, random_state=42)\n",
    "model.fit(X_train, y_train)\n",
    "\n",
    "# Step 6: Generate SHAP Values\n",
    "explainer = shap.Explainer(model, X_test.toarray())\n",
    "shap_values = explainer(X_test.toarray())\n",
    "\n",
    "\n",
    "# Step 7: SHAP Summary Plot\n",
    "os.makedirs(\"results\", exist_ok=True)\n",
    "feature_names = tfidf_vectorizer.get_feature_names_out()\n",
    "shap.summary_plot(shap_values, feature_names=feature_names, show=False)\n",
    "plt.title(\"SHAP - TF-IDF Feature Importance (Sample Games)\")\n",
    "plt.tight_layout()\n",
    "plt.savefig(\"results/shap_explanation.png\")\n",
    "plt.show()\n"
   ]
  },
  {
   "cell_type": "markdown",
   "id": "6955a1a3-1f08-4ae6-a277-73308a9e3724",
   "metadata": {},
   "source": [
    "## Append Final Hybrid Metrics to CSV"
   ]
  },
  {
   "cell_type": "code",
   "execution_count": 48,
   "id": "fea963f2-2e03-4d91-8ce9-b79855fb556f",
   "metadata": {},
   "outputs": [
    {
     "ename": "NameError",
     "evalue": "name 'final_df' is not defined",
     "output_type": "error",
     "traceback": [
      "\u001b[1;31m---------------------------------------------------------------------------\u001b[0m",
      "\u001b[1;31mNameError\u001b[0m                                 Traceback (most recent call last)",
      "Cell \u001b[1;32mIn[48], line 4\u001b[0m\n\u001b[0;32m      1\u001b[0m \u001b[38;5;28;01mimport\u001b[39;00m \u001b[38;5;21;01mos\u001b[39;00m\n\u001b[0;32m      3\u001b[0m \u001b[38;5;66;03m# Append to final_metrics.csv\u001b[39;00m\n\u001b[1;32m----> 4\u001b[0m final_df\u001b[38;5;241m.\u001b[39mto_csv(\n\u001b[0;32m      5\u001b[0m     \u001b[38;5;124m\"\u001b[39m\u001b[38;5;124mresults/final_metrics.csv\u001b[39m\u001b[38;5;124m\"\u001b[39m,\n\u001b[0;32m      6\u001b[0m     mode\u001b[38;5;241m=\u001b[39m\u001b[38;5;124m'\u001b[39m\u001b[38;5;124ma\u001b[39m\u001b[38;5;124m'\u001b[39m,\n\u001b[0;32m      7\u001b[0m     header\u001b[38;5;241m=\u001b[39m\u001b[38;5;129;01mnot\u001b[39;00m os\u001b[38;5;241m.\u001b[39mpath\u001b[38;5;241m.\u001b[39mexists(\u001b[38;5;124m\"\u001b[39m\u001b[38;5;124mresults/final_metrics.csv\u001b[39m\u001b[38;5;124m\"\u001b[39m),\n\u001b[0;32m      8\u001b[0m     index\u001b[38;5;241m=\u001b[39m\u001b[38;5;28;01mFalse\u001b[39;00m\n\u001b[0;32m      9\u001b[0m )\n",
      "\u001b[1;31mNameError\u001b[0m: name 'final_df' is not defined"
     ]
    }
   ],
   "source": [
    "import os\n",
    "\n",
    "# Append to final_metrics.csv\n",
    "final_df.to_csv(\n",
    "    \"results/final_metrics.csv\",\n",
    "    mode='a',\n",
    "    header=not os.path.exists(\"results/final_metrics.csv\"),\n",
    "    index=False\n",
    ")\n"
   ]
  },
  {
   "cell_type": "code",
   "execution_count": null,
   "id": "ce942a35-4717-47e1-9c93-bc59ac90b746",
   "metadata": {},
   "outputs": [],
   "source": []
  }
 ],
 "metadata": {
  "kernelspec": {
   "display_name": "Python 3 (ipykernel)",
   "language": "python",
   "name": "python3"
  },
  "language_info": {
   "codemirror_mode": {
    "name": "ipython",
    "version": 3
   },
   "file_extension": ".py",
   "mimetype": "text/x-python",
   "name": "python",
   "nbconvert_exporter": "python",
   "pygments_lexer": "ipython3",
   "version": "3.11.7"
  }
 },
 "nbformat": 4,
 "nbformat_minor": 5
}
