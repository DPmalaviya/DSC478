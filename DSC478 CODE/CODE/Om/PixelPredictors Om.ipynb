{
 "cells": [
  {
   "cell_type": "markdown",
   "id": "f15f0ca0-07fe-4d1f-a32d-a553eb23039e",
   "metadata": {},
   "source": [
    "***Topic 2: Evaluation & Comparison***"
   ]
  },
  {
   "cell_type": "code",
   "execution_count": 38,
   "id": "534a66a8-3d21-4991-ac94-68d042224b5c",
   "metadata": {},
   "outputs": [],
   "source": [
    "#Imports (Evaluation)\n",
    "import pandas as pd\n",
    "import numpy as np\n",
    "from sklearn.metrics import mean_squared_error\n",
    "from sklearn.neighbors import NearestNeighbors\n",
    "from scipy.sparse.linalg import svds\n",
    "import matplotlib.pyplot as plt"
   ]
  },
  {
   "cell_type": "markdown",
   "id": "7102d5df-53b5-47ec-9eca-a69e5bf9c7c3",
   "metadata": {},
   "source": [
    "***Imported essential libraries for evaluation, modeling, and matrix operations in this step.***"
   ]
  },
  {
   "cell_type": "code",
   "execution_count": 6,
   "id": "05146469-2751-458b-89ff-8e3da21bc1ba",
   "metadata": {},
   "outputs": [
    {
     "name": "stdout",
     "output_type": "stream",
     "text": [
      "/Users/dpmalaviya/Library/CloudStorage/OneDrive-DePaulUniversity/Quarters/3rd quarter/DSC 478/Project/data\n"
     ]
    }
   ],
   "source": [
    "cd /Users/dpmalaviya/Library/CloudStorage/OneDrive-DePaulUniversity/Quarters/3rd quarter/DSC 478/Project/data"
   ]
  },
  {
   "cell_type": "code",
   "execution_count": 10,
   "id": "70a641a0-0e57-4040-91d0-80a253b3e42c",
   "metadata": {},
   "outputs": [],
   "source": [
    "df = pd.read_csv(\"video_game_reviews.csv\")"
   ]
  },
  {
   "cell_type": "markdown",
   "id": "b5210c43-7590-49a9-87e1-31665e4f016c",
   "metadata": {},
   "source": [
    "***Loaded the whole video game review dataset into a DataFrame for processing and modeling and getting outputs and results.***"
   ]
  },
  {
   "cell_type": "code",
   "execution_count": 12,
   "id": "df0052eb-de52-400b-9b37-e20c98f3a5cc",
   "metadata": {},
   "outputs": [
    {
     "name": "stdout",
     "output_type": "stream",
     "text": [
      "Dataset shape: (47774, 18)\n",
      "Rating summary:\n",
      " count    47774.000000\n",
      "mean        29.719329\n",
      "std          7.550131\n",
      "min         10.100000\n",
      "25%         24.300000\n",
      "50%         29.700000\n",
      "75%         35.100000\n",
      "max         49.500000\n",
      "Name: User Rating, dtype: float64\n",
      "Missing values:\n",
      " Game Title                 0\n",
      "User Rating                0\n",
      "Game Mode                  0\n",
      "User Review Text           0\n",
      "Story Quality              0\n",
      "Soundtrack Quality         0\n",
      "Graphics Quality           0\n",
      "Game Length (Hours)        0\n",
      "Multiplayer                0\n",
      "Genre                      0\n",
      "Release Year               0\n",
      "Publisher                  0\n",
      "Developer                  0\n",
      "Requires Special Device    0\n",
      "Platform                   0\n",
      "Price                      0\n",
      "Age Group Targeted         0\n",
      "Min Number of Players      0\n",
      "dtype: int64\n"
     ]
    }
   ],
   "source": [
    "print(\"Dataset shape:\", df.shape)\n",
    "print(\"Rating summary:\\n\", df['User Rating'].describe())\n",
    "print(\"Missing values:\\n\", df.isna().sum().sort_values(ascending=False))"
   ]
  },
  {
   "cell_type": "markdown",
   "id": "5d8190ba-de21-4a39-a0ed-d3c3b5e0106b",
   "metadata": {},
   "source": [
    "***Confirmed here that the dataset is fully cleaned and contains no missing values.***\n",
    "***Also displayed the dataset size and a statistical summary of the 'User Rating' column for better clarity.***"
   ]
  },
  {
   "cell_type": "code",
   "execution_count": 14,
   "id": "5b12ccb6-60d9-42e9-8a2f-c559eb1e2b3f",
   "metadata": {},
   "outputs": [
    {
     "name": "stdout",
     "output_type": "stream",
     "text": [
      "User-item matrix shape: (12, 40)\n"
     ]
    }
   ],
   "source": [
    "#Create user-item matrix for rating prediction\n",
    "user_item_matrix = df.pivot_table(index='User Review Text', columns='Game Title', values='User Rating')\n",
    "ratings_matrix = user_item_matrix.fillna(0)\n",
    "print(\"User-item matrix shape:\", ratings_matrix.shape)"
   ]
  },
  {
   "cell_type": "markdown",
   "id": "54f3ced0-959a-4f2f-a278-18a5a2d42aec",
   "metadata": {},
   "source": [
    "***Created a pivot table where rows represent pseudo-users (review texts) and columns represent games. Values are user ratings.\n",
    "This matrix here forms the basis for collaborative filtering models.***"
   ]
  },
  {
   "cell_type": "code",
   "execution_count": 16,
   "id": "bd8df80b-135d-4659-a671-7929995b7ee8",
   "metadata": {},
   "outputs": [],
   "source": [
    "#RMSE function\n",
    "def compute_rmse(true_ratings, pred_ratings):\n",
    "    mask = true_ratings > 0\n",
    "    mse = mean_squared_error(true_ratings[mask], pred_ratings[mask])\n",
    "    return np.sqrt(mse)"
   ]
  },
  {
   "cell_type": "markdown",
   "id": "aaf012c4-14ee-486c-afff-47a3e078b0b5",
   "metadata": {},
   "source": [
    "***Defined a function to calculate RMSE only for known ratings, and ignoring the artificially filled zeros (which indicate missing data).***"
   ]
  },
  {
   "cell_type": "code",
   "execution_count": 18,
   "id": "a21c0ed7-1b4c-4b7f-83e6-217a377a88c8",
   "metadata": {},
   "outputs": [
    {
     "name": "stdout",
     "output_type": "stream",
     "text": [
      "\n",
      "RMSE (SVD on full matrix): 0.1092\n"
     ]
    }
   ],
   "source": [
    "#SVD Implementation (Matrix Factorization)\n",
    "k_svd = min(ratings_matrix.shape) - 1\n",
    "U, sigma, Vt = svds(ratings_matrix.values, k=k_svd)\n",
    "sigma = np.diag(sigma)\n",
    "pred_ratings_svd = np.dot(np.dot(U, sigma), Vt)\n",
    "rmse_svd = compute_rmse(ratings_matrix.values, pred_ratings_svd)\n",
    "print(f\"\\nRMSE (SVD on full matrix): {rmse_svd:.4f}\")\n"
   ]
  },
  {
   "cell_type": "markdown",
   "id": "3b5c897f-f082-4acb-b53c-322ec72bbb8b",
   "metadata": {},
   "source": [
    "***Applied matrix factorization (SVD) to uncover latent relationships between users and games. This is a standard collaborative filtering approach. RMSE here gives us a measure of prediction error which will be easy for uus to work ahead.***"
   ]
  },
  {
   "cell_type": "code",
   "execution_count": 20,
   "id": "a8f338e6-2717-4ad2-9a38-f619b54f5956",
   "metadata": {},
   "outputs": [
    {
     "name": "stdout",
     "output_type": "stream",
     "text": [
      "RMSE (User-KNN on full matrix): 0.5661\n"
     ]
    }
   ],
   "source": [
    "#User-based KNN (Collaborative Filtering)\n",
    "model_knn = NearestNeighbors(metric='cosine', algorithm='brute')\n",
    "model_knn.fit(ratings_matrix)\n",
    "pred_ratings_knn = ratings_matrix.copy()\n",
    "for idx in range(len(ratings_matrix)):\n",
    "    distances, indices = model_knn.kneighbors(ratings_matrix.iloc[idx:idx+1], n_neighbors=5)\n",
    "    mean_rating = ratings_matrix.iloc[indices[0]].mean(axis=0)\n",
    "    pred_ratings_knn.iloc[idx] = mean_rating\n",
    "\n",
    "rmse_knn = compute_rmse(ratings_matrix.values, pred_ratings_knn.values)\n",
    "print(f\"RMSE (User-KNN on full matrix): {rmse_knn:.4f}\")"
   ]
  },
  {
   "cell_type": "markdown",
   "id": "160362e2-a7c5-40ee-9b13-1ad2bf824381",
   "metadata": {},
   "source": [
    "***Built a collaborative filtering model here using cosine similarity between users which predicted ratings by averaging those from the 5 most similar users. RMSE here is calculated to compare with SVD results.***\n"
   ]
  },
  {
   "cell_type": "code",
   "execution_count": 22,
   "id": "9ae67aea-6308-4147-ba35-b17620b2df44",
   "metadata": {},
   "outputs": [
    {
     "name": "stdout",
     "output_type": "stream",
     "text": [
      "RMSE (SVD on filtered matrix): 0.1092\n"
     ]
    }
   ],
   "source": [
    "#Filtering to reduce sparsity (only games with >100 ratings)\n",
    "rating_counts = df['Game Title'].value_counts()\n",
    "popular_games = rating_counts[rating_counts > 100].index\n",
    "filtered_df = df[df['Game Title'].isin(popular_games)]\n",
    "filtered_matrix = filtered_df.pivot_table(index='User Review Text', columns='Game Title', values='User Rating').fillna(0)\n",
    "\n",
    "k_svd_filtered = min(filtered_matrix.shape) - 1\n",
    "U_f, sigma_f, Vt_f = svds(filtered_matrix.values, k=k_svd_filtered)\n",
    "sigma_f = np.diag(sigma_f)\n",
    "pred_filtered_svd = np.dot(np.dot(U_f, sigma_f), Vt_f)\n",
    "rmse_filtered_svd = compute_rmse(filtered_matrix.values, pred_filtered_svd)\n",
    "print(f\"RMSE (SVD on filtered matrix): {rmse_filtered_svd:.4f}\")"
   ]
  },
  {
   "cell_type": "markdown",
   "id": "b0378e51-68ab-43c2-b44d-3ecaa01435cc",
   "metadata": {},
   "source": [
    "***Sparsing the data can hurt model performance. Here, we keep only games with over 100 ratings to ensure sufficient data. Re-ran SVD and compared RMSE to observe how sparsity reduction impacts accuracy.***"
   ]
  },
  {
   "cell_type": "markdown",
   "id": "782c3fc3-e97a-40c3-8b64-a89edc971e79",
   "metadata": {},
   "source": [
    "***Methodology & Parameter Adjustments***"
   ]
  },
  {
   "cell_type": "code",
   "execution_count": 24,
   "id": "4d8a5109-d94c-4be5-8c2a-398b66cd8b95",
   "metadata": {},
   "outputs": [],
   "source": [
    "from sklearn.decomposition import PCA\n",
    "from sklearn.feature_extraction.text import TfidfVectorizer"
   ]
  },
  {
   "cell_type": "code",
   "execution_count": 26,
   "id": "722064ed-7374-4c94-830c-dfede658bea7",
   "metadata": {},
   "outputs": [],
   "source": [
    "mode_genre = df['Genre'].mode()[0]\n",
    "df['Genre'] = df['Genre'].replace(\"Unknown\", mode_genre)"
   ]
  },
  {
   "cell_type": "markdown",
   "id": "d1b7c7b8-bbbb-4474-8dd6-91a03c502c12",
   "metadata": {},
   "source": [
    "***Standardized the 'Genre' field by replacing 'Unknown' with the most frequent genre.This avoids skew in genre-based modeling or filtering.***"
   ]
  },
  {
   "cell_type": "code",
   "execution_count": 28,
   "id": "bdb94f64-df34-408a-8216-becf3bc442c0",
   "metadata": {},
   "outputs": [],
   "source": [
    "vectorizer = TfidfVectorizer(max_features=100)\n",
    "tfidf_matrix = vectorizer.fit_transform(df['User Review Text'])"
   ]
  },
  {
   "cell_type": "markdown",
   "id": "b524c9d1-e4eb-47bd-bf8c-f504de62e2fa",
   "metadata": {},
   "source": [
    "***Converted the user review text into numerical vectors using TF-IDF (text importance). Then, applied PCA to reduce dimensionality while preserving 95% of the data variance. This prepares the review data for content-based or hybrid recommendation modeling.***"
   ]
  },
  {
   "cell_type": "code",
   "execution_count": 30,
   "id": "49bf4b28-ee9d-4931-bb67-80c018dc169f",
   "metadata": {},
   "outputs": [
    {
     "name": "stdout",
     "output_type": "stream",
     "text": [
      "Sample TF-IDF vector for first review:\n",
      "[[0.         0.         0.         0.45907995 0.21866242 0.\n",
      "  0.         0.21866242 0.         0.         0.         0.\n",
      "  0.45907995 0.52164191 0.         0.45907995]]\n",
      "\n",
      "Top 10 keywords across all reviews:\n",
      "amazing: 10032.93\n",
      "game: 10032.90\n",
      "but: 10032.90\n",
      "the: 9116.48\n",
      "too: 7441.19\n",
      "many: 7441.19\n",
      "bugs: 7441.19\n",
      "is: 7111.09\n",
      "gameplay: 7111.09\n",
      "graphics: 6503.47\n"
     ]
    }
   ],
   "source": [
    "# Show first few rows of TF-IDF matrix\n",
    "print(\"Sample TF-IDF vector for first review:\")\n",
    "print(tfidf_matrix[0].toarray())\n",
    "\n",
    "# Get and print top TF-IDF terms overall\n",
    "feature_names = vectorizer.get_feature_names_out()\n",
    "tfidf_sum = tfidf_matrix.sum(axis=0).A1\n",
    "top_indices = np.argsort(tfidf_sum)[-10:][::-1]\n",
    "\n",
    "print(\"\\nTop 10 keywords across all reviews:\")\n",
    "for i in top_indices:\n",
    "    print(f\"{feature_names[i]}: {tfidf_sum[i]:.2f}\")"
   ]
  },
  {
   "cell_type": "code",
   "execution_count": 32,
   "id": "ba71ff3a-7ce3-4525-a674-cebdb1178921",
   "metadata": {},
   "outputs": [
    {
     "name": "stdout",
     "output_type": "stream",
     "text": [
      "TF-IDF matrix shape: (47774, 16)\n"
     ]
    }
   ],
   "source": [
    "print(\"TF-IDF matrix shape:\", tfidf_matrix.shape)"
   ]
  },
  {
   "cell_type": "code",
   "execution_count": 34,
   "id": "16bbff57-01b0-40af-92e8-2a4248f133e0",
   "metadata": {},
   "outputs": [
    {
     "name": "stdout",
     "output_type": "stream",
     "text": [
      "PCA-reduced shape: (47774, 5)\n"
     ]
    }
   ],
   "source": [
    "pca = PCA(n_components=0.95)  # retain 95% variance\n",
    "tfidf_pca = pca.fit_transform(tfidf_matrix.toarray())\n",
    "print(\"PCA-reduced shape:\", tfidf_pca.shape)"
   ]
  },
  {
   "cell_type": "code",
   "execution_count": 40,
   "id": "830beb2b-8434-422a-a73a-2397e129e947",
   "metadata": {},
   "outputs": [
    {
     "data": {
      "image/png": "[encoded data removed]",
      "text/plain": [
       "<Figure size 640x480 with 1 Axes>"
      ]
     },
     "metadata": {},
     "output_type": "display_data"
    }
   ],
   "source": [
    "df['Game Title'].value_counts().head(10).plot(kind='barh', color='maroon')\n",
    "plt.title(\"Top 10 Most Rated Games\")\n",
    "plt.gca().invert_yaxis()\n",
    "plt.xlabel(\"Number of Ratings\")\n",
    "plt.tight_layout()\n",
    "plt.show()"
   ]
  },
  {
   "cell_type": "code",
   "execution_count": 44,
   "id": "77a186d0-bc71-4d9e-881b-50c882a0bcb5",
   "metadata": {},
   "outputs": [
    {
     "name": "stdout",
     "output_type": "stream",
     "text": [
      "/Users/dpmalaviya/Library/CloudStorage/OneDrive-DePaulUniversity/Quarters/3rd quarter/DSC 478/Project/work/om\n"
     ]
    }
   ],
   "source": [
    "cd /Users/dpmalaviya/Library/CloudStorage/OneDrive-DePaulUniversity/Quarters/3rd quarter/DSC 478/Project/work/om"
   ]
  },
  {
   "cell_type": "code",
   "execution_count": 52,
   "id": "d05cb8a5-2f0f-45b8-8f3e-2e068907d8b5",
   "metadata": {},
   "outputs": [],
   "source": [
    "np.save(\"tfidf_pca.npy\", tfidf_pca)"
   ]
  },
  {
   "cell_type": "code",
   "execution_count": null,
   "id": "32685e2d-06c6-430c-aa9f-c2a0d6e35051",
   "metadata": {},
   "outputs": [],
   "source": []
  }
 ],
 "metadata": {
  "kernelspec": {
   "display_name": "Python [conda env:base] *",
   "language": "python",
   "name": "conda-base-py"
  },
  "language_info": {
   "codemirror_mode": {
    "name": "ipython",
    "version": 3
   },
   "file_extension": ".py",
   "mimetype": "text/x-python",
   "name": "python",
   "nbconvert_exporter": "python",
   "pygments_lexer": "ipython3",
   "version": "3.12.7"
  }
 },
 "nbformat": 4,
 "nbformat_minor": 5
}
